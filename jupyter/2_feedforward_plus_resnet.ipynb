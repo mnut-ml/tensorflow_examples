{
 "cells": [
  {
   "cell_type": "code",
   "execution_count": 1,
   "metadata": {},
   "outputs": [
    {
     "name": "stderr",
     "output_type": "stream",
     "text": [
      "Using TensorFlow backend.\n"
     ]
    }
   ],
   "source": [
    "import numpy as np\n",
    "import tensorflow as tf\n",
    "from keras.datasets import mnist\n",
    "from tensorflow import keras as keras\n",
    "from tensorflow.keras import models\n",
    "from tensorflow.keras import layers\n",
    "import datetime\n"
   ]
  },
  {
   "cell_type": "code",
   "execution_count": 2,
   "metadata": {},
   "outputs": [
    {
     "name": "stdout",
     "output_type": "stream",
     "text": [
      "(60000, 28, 28)\n",
      "(60000, 10)\n",
      "(10000, 28, 28)\n",
      "(10000, 10)\n",
      "(60000, 28, 28, 1)\n",
      "(60000, 10)\n",
      "(10000, 28, 28, 1)\n",
      "(10000, 10)\n"
     ]
    }
   ],
   "source": [
    "((train_input, train_labels),(val_input, val_labels)) = mnist.load_data()\n",
    "train_labels = keras.utils.to_categorical(train_labels)\n",
    "val_labels = keras.utils.to_categorical(val_labels)\n",
    "print(train_input.shape)\n",
    "print(train_labels.shape)\n",
    "print(val_input.shape)\n",
    "print(val_labels.shape)\n",
    "\n",
    "#num_samples = 1000\n",
    "#train_input = train_input[0:num_samples,:,:]\n",
    "#train_labels = train_labels[0:num_samples, :]\n",
    "#val_input = val_input[0:num_samples,:,:]\n",
    "#val_labels = val_labels[0:num_samples, :]\n",
    "\n",
    "\n",
    "train_input = np.expand_dims(train_input, 3)\n",
    "val_input = np.expand_dims(val_input, 3)\n",
    "train_input = train_input.astype('float')/255.0\n",
    "val_input = val_input.astype('float')/255.0\n",
    "print(train_input.shape)\n",
    "print(train_labels.shape)\n",
    "print(val_input.shape)\n",
    "print(val_labels.shape)"
   ]
  },
  {
   "cell_type": "code",
   "execution_count": 3,
   "metadata": {},
   "outputs": [
    {
     "name": "stdout",
     "output_type": "stream",
     "text": [
      "(None, 28, 28, 1)\n"
     ]
    }
   ],
   "source": [
    "visible = keras.Input(shape=(28,28,1))\n",
    "print(visible.shape)"
   ]
  },
  {
   "cell_type": "code",
   "execution_count": 4,
   "metadata": {},
   "outputs": [
    {
     "name": "stdout",
     "output_type": "stream",
     "text": [
      "(None, 28, 28, 20)\n",
      "(None, 10, 10, 20)\n"
     ]
    }
   ],
   "source": [
    "conv1 = layers.Conv2D(filters=20, kernel_size=(3,3), padding='same', activation='relu', name='conv1')(visible)\n",
    "#conv1 = layers.Dropout(rate=0.5)(conv1)\n",
    "print(conv1.shape)\n",
    "max1 = layers.MaxPool2D(pool_size=(3,3), padding='same')(conv1)\n",
    "print(max1.shape)"
   ]
  },
  {
   "cell_type": "code",
   "execution_count": 5,
   "metadata": {},
   "outputs": [
    {
     "name": "stdout",
     "output_type": "stream",
     "text": [
      "(None, 10, 10, 30)\n"
     ]
    }
   ],
   "source": [
    "conv2 = layers.Conv2D(filters=30,kernel_size=(3,3), padding = 'same')(max1)\n",
    "#conv2 = layers.Dropout(rate=0.5)(conv2)\n",
    "print(conv2.shape)"
   ]
  },
  {
   "cell_type": "code",
   "execution_count": 6,
   "metadata": {},
   "outputs": [
    {
     "name": "stdout",
     "output_type": "stream",
     "text": [
      "(None, 10, 10, 30)\n",
      "(None, 10, 10, 20)\n",
      "(None, 10, 10, 20)\n"
     ]
    }
   ],
   "source": [
    "relu2 = layers.Activation('relu')(conv2)\n",
    "relu2_1d_to_20 = layers.Conv2D(filters=20, kernel_size=(1,1), padding = 'same')(relu2)\n",
    "print( relu2.shape)\n",
    "print( relu2_1d_to_20.shape)\n",
    "res2 = layers.Add()([relu2_1d_to_20, max1])\n",
    "print( res2.shape)"
   ]
  },
  {
   "cell_type": "code",
   "execution_count": 7,
   "metadata": {},
   "outputs": [
    {
     "name": "stdout",
     "output_type": "stream",
     "text": [
      "(None, 4, 4, 30)\n"
     ]
    }
   ],
   "source": [
    "max2 = layers.MaxPool2D( pool_size=(3,3), padding = 'same')(relu2)\n",
    "print(max2.shape)"
   ]
  },
  {
   "cell_type": "code",
   "execution_count": 8,
   "metadata": {},
   "outputs": [
    {
     "name": "stdout",
     "output_type": "stream",
     "text": [
      "(None, 480)\n",
      "(None, 10)\n"
     ]
    }
   ],
   "source": [
    "flat3 = layers.Flatten()(max2)\n",
    "print( flat3.shape)\n",
    "out4 = layers.Dense(10, activation='softmax')(flat3)\n",
    "print(out4.shape)"
   ]
  },
  {
   "cell_type": "code",
   "execution_count": 9,
   "metadata": {},
   "outputs": [
    {
     "name": "stdout",
     "output_type": "stream",
     "text": [
      "(None, 28, 28, 1)\n"
     ]
    }
   ],
   "source": [
    "print(visible.shape)\n",
    "model = tf.keras.Model(inputs=visible, outputs=out4)"
   ]
  },
  {
   "cell_type": "code",
   "execution_count": 13,
   "metadata": {},
   "outputs": [
    {
     "name": "stdout",
     "output_type": "stream",
     "text": [
      "Epoch 1/10\n",
      "60/60 [==============================] - 8s 136ms/step - loss: 0.9479 - accuracy: 0.7707 - val_loss: 0.3968 - val_accuracy: 0.8883\n",
      "Epoch 2/10\n",
      "60/60 [==============================] - 8s 130ms/step - loss: 0.3632 - accuracy: 0.8951 - val_loss: 0.2512 - val_accuracy: 0.9293\n",
      "Epoch 3/10\n",
      "60/60 [==============================] - 8s 131ms/step - loss: 0.2416 - accuracy: 0.9284 - val_loss: 0.1885 - val_accuracy: 0.9435\n",
      "Epoch 4/10\n",
      "60/60 [==============================] - 8s 132ms/step - loss: 0.1903 - accuracy: 0.9426 - val_loss: 0.1541 - val_accuracy: 0.9536\n",
      "Epoch 5/10\n",
      "60/60 [==============================] - 8s 136ms/step - loss: 0.1564 - accuracy: 0.9516 - val_loss: 0.1297 - val_accuracy: 0.9603\n",
      "Epoch 6/10\n",
      "60/60 [==============================] - 8s 140ms/step - loss: 0.1358 - accuracy: 0.9576 - val_loss: 0.1134 - val_accuracy: 0.9641\n",
      "Epoch 7/10\n",
      "60/60 [==============================] - 8s 131ms/step - loss: 0.1254 - accuracy: 0.9616 - val_loss: 0.1002 - val_accuracy: 0.9678\n",
      "Epoch 8/10\n",
      "60/60 [==============================] - 8s 135ms/step - loss: 0.1061 - accuracy: 0.9667 - val_loss: 0.0910 - val_accuracy: 0.9710\n",
      "Epoch 9/10\n",
      "60/60 [==============================] - 8s 135ms/step - loss: 0.0955 - accuracy: 0.9706 - val_loss: 0.0836 - val_accuracy: 0.9724\n",
      "Epoch 10/10\n",
      "60/60 [==============================] - 8s 140ms/step - loss: 0.0916 - accuracy: 0.9721 - val_loss: 0.0797 - val_accuracy: 0.9741\n"
     ]
    },
    {
     "data": {
      "text/plain": [
       "<tensorflow.python.keras.callbacks.History at 0x7fa96046b438>"
      ]
     },
     "execution_count": 13,
     "metadata": {},
     "output_type": "execute_result"
    }
   ],
   "source": [
    "model.compile(loss='categorical_crossentropy', optimizer='adam', metrics=['accuracy'])\n",
    "tb_log_dir = \"/home/manju/code/ML/src/manju_tensorflow_examples/logs/fit/\" + datetime.datetime.now().strftime(\"%Y%m%d-%H%M%S\")\n",
    "\n",
    "tb_callback = keras.callbacks.TensorBoard(log_dir=tb_log_dir, histogram_freq=1)\n",
    "model.fit(x=train_input, y=train_labels, batch_size=1000, epochs=10, validation_data=(val_input, val_labels),\n",
    "         callbacks=[tb_callback])"
   ]
  },
  {
   "cell_type": "code",
   "execution_count": null,
   "metadata": {},
   "outputs": [],
   "source": []
  }
 ],
 "metadata": {
  "kernelspec": {
   "display_name": "Python 3",
   "language": "python",
   "name": "python3"
  },
  "language_info": {
   "codemirror_mode": {
    "name": "ipython",
    "version": 3
   },
   "file_extension": ".py",
   "mimetype": "text/x-python",
   "name": "python",
   "nbconvert_exporter": "python",
   "pygments_lexer": "ipython3",
   "version": "3.6.12"
  }
 },
 "nbformat": 4,
 "nbformat_minor": 4
}
