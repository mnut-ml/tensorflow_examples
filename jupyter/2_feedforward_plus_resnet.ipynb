{
 "cells": [
  {
   "cell_type": "code",
   "execution_count": 1,
   "metadata": {},
   "outputs": [
    {
     "name": "stderr",
     "output_type": "stream",
     "text": [
      "/home/manju/code/ML/venv3.6/lib/python3.6/site-packages/tensorflow/python/framework/dtypes.py:526: FutureWarning: Passing (type, 1) or '1type' as a synonym of type is deprecated; in a future version of numpy, it will be understood as (type, (1,)) / '(1,)type'.\n",
      "  _np_qint8 = np.dtype([(\"qint8\", np.int8, 1)])\n",
      "/home/manju/code/ML/venv3.6/lib/python3.6/site-packages/tensorflow/python/framework/dtypes.py:527: FutureWarning: Passing (type, 1) or '1type' as a synonym of type is deprecated; in a future version of numpy, it will be understood as (type, (1,)) / '(1,)type'.\n",
      "  _np_quint8 = np.dtype([(\"quint8\", np.uint8, 1)])\n",
      "/home/manju/code/ML/venv3.6/lib/python3.6/site-packages/tensorflow/python/framework/dtypes.py:528: FutureWarning: Passing (type, 1) or '1type' as a synonym of type is deprecated; in a future version of numpy, it will be understood as (type, (1,)) / '(1,)type'.\n",
      "  _np_qint16 = np.dtype([(\"qint16\", np.int16, 1)])\n",
      "/home/manju/code/ML/venv3.6/lib/python3.6/site-packages/tensorflow/python/framework/dtypes.py:529: FutureWarning: Passing (type, 1) or '1type' as a synonym of type is deprecated; in a future version of numpy, it will be understood as (type, (1,)) / '(1,)type'.\n",
      "  _np_quint16 = np.dtype([(\"quint16\", np.uint16, 1)])\n",
      "/home/manju/code/ML/venv3.6/lib/python3.6/site-packages/tensorflow/python/framework/dtypes.py:530: FutureWarning: Passing (type, 1) or '1type' as a synonym of type is deprecated; in a future version of numpy, it will be understood as (type, (1,)) / '(1,)type'.\n",
      "  _np_qint32 = np.dtype([(\"qint32\", np.int32, 1)])\n",
      "/home/manju/code/ML/venv3.6/lib/python3.6/site-packages/tensorflow/python/framework/dtypes.py:535: FutureWarning: Passing (type, 1) or '1type' as a synonym of type is deprecated; in a future version of numpy, it will be understood as (type, (1,)) / '(1,)type'.\n",
      "  np_resource = np.dtype([(\"resource\", np.ubyte, 1)])\n",
      "Using TensorFlow backend.\n"
     ]
    }
   ],
   "source": [
    "import numpy as np\n",
    "import tensorflow as tf\n",
    "from keras.datasets import mnist\n",
    "from tensorflow import keras as keras\n",
    "from tensorflow.keras import models\n",
    "from tensorflow.keras import layers\n",
    "import datetime\n"
   ]
  },
  {
   "cell_type": "code",
   "execution_count": 2,
   "metadata": {},
   "outputs": [
    {
     "name": "stdout",
     "output_type": "stream",
     "text": [
      "(60000, 28, 28)\n",
      "(60000, 10)\n",
      "(10000, 28, 28)\n",
      "(10000, 10)\n",
      "(60000, 28, 28, 1)\n",
      "(60000, 10)\n",
      "(10000, 28, 28, 1)\n",
      "(10000, 10)\n"
     ]
    }
   ],
   "source": [
    "((train_input, train_labels),(val_input, val_labels)) = mnist.load_data()\n",
    "train_labels = keras.utils.to_categorical(train_labels)\n",
    "val_labels = keras.utils.to_categorical(val_labels)\n",
    "print(train_input.shape)\n",
    "print(train_labels.shape)\n",
    "print(val_input.shape)\n",
    "print(val_labels.shape)\n",
    "\n",
    "#num_samples = 1000\n",
    "#train_input = train_input[0:num_samples,:,:]\n",
    "#train_labels = train_labels[0:num_samples, :]\n",
    "#val_input = val_input[0:num_samples,:,:]\n",
    "#val_labels = val_labels[0:num_samples, :]\n",
    "\n",
    "\n",
    "train_input = np.expand_dims(train_input, 3)\n",
    "val_input = np.expand_dims(val_input, 3)\n",
    "train_input = train_input.astype('float')/255.0\n",
    "val_input = val_input.astype('float')/255.0\n",
    "print(train_input.shape)\n",
    "print(train_labels.shape)\n",
    "print(val_input.shape)\n",
    "print(val_labels.shape)"
   ]
  },
  {
   "cell_type": "code",
   "execution_count": 3,
   "metadata": {},
   "outputs": [
    {
     "name": "stdout",
     "output_type": "stream",
     "text": [
      "(?, 28, 28, 1)\n"
     ]
    }
   ],
   "source": [
    "visible = keras.Input(shape=(28,28,1))\n",
    "print(visible.shape)"
   ]
  },
  {
   "cell_type": "code",
   "execution_count": 4,
   "metadata": {},
   "outputs": [
    {
     "name": "stdout",
     "output_type": "stream",
     "text": [
      "WARNING:tensorflow:From /home/manju/code/ML/venv3.6/lib/python3.6/site-packages/tensorflow/python/ops/resource_variable_ops.py:435: colocate_with (from tensorflow.python.framework.ops) is deprecated and will be removed in a future version.\n",
      "Instructions for updating:\n",
      "Colocations handled automatically by placer.\n",
      "(?, 28, 28, 20)\n",
      "(?, 10, 10, 20)\n"
     ]
    }
   ],
   "source": [
    "conv1 = layers.Conv2D(filters=20, kernel_size=(3,3), padding='same', activation='relu', name='conv1')(visible)\n",
    "#conv1 = layers.Dropout(rate=0.5)(conv1)\n",
    "print(conv1.shape)\n",
    "max1 = layers.MaxPool2D(pool_size=(3,3), padding='same')(conv1)\n",
    "print(max1.shape)"
   ]
  },
  {
   "cell_type": "code",
   "execution_count": 5,
   "metadata": {},
   "outputs": [
    {
     "name": "stdout",
     "output_type": "stream",
     "text": [
      "(?, 10, 10, 30)\n"
     ]
    }
   ],
   "source": [
    "conv2 = layers.Conv2D(filters=30,kernel_size=(3,3), padding = 'same')(max1)\n",
    "#conv2 = layers.Dropout(rate=0.5)(conv2)\n",
    "print(conv2.shape)"
   ]
  },
  {
   "cell_type": "code",
   "execution_count": 10,
   "metadata": {},
   "outputs": [
    {
     "name": "stdout",
     "output_type": "stream",
     "text": [
      "(?, 10, 10, 30)\n",
      "(?, 10, 10, 20)\n",
      "(?, 10, 10, 20)\n"
     ]
    }
   ],
   "source": [
    "relu2 = layers.Activation('relu')(conv2)\n",
    "relu2_1d_to_20 = layers.Conv2D(filters=20, kernel_size=(1,1), padding = 'same')(relu2)\n",
    "print( relu2.shape)\n",
    "print( relu2_1d_to_20.shape)\n",
    "res2 = layers.Add()([relu2_1d_to_20, max1])\n",
    "print( res2.shape)"
   ]
  },
  {
   "cell_type": "code",
   "execution_count": 11,
   "metadata": {},
   "outputs": [
    {
     "name": "stdout",
     "output_type": "stream",
     "text": [
      "(?, 4, 4, 30)\n"
     ]
    }
   ],
   "source": [
    "max2 = layers.MaxPool2D( pool_size=(3,3), padding = 'same')(relu2)\n",
    "print(max2.shape)"
   ]
  },
  {
   "cell_type": "code",
   "execution_count": 12,
   "metadata": {},
   "outputs": [
    {
     "name": "stdout",
     "output_type": "stream",
     "text": [
      "(?, 480)\n",
      "(?, 10)\n"
     ]
    }
   ],
   "source": [
    "flat3 = layers.Flatten()(max2)\n",
    "print( flat3.shape)\n",
    "out4 = layers.Dense(10, activation='softmax')(flat3)\n",
    "print(out4.shape)"
   ]
  },
  {
   "cell_type": "code",
   "execution_count": 13,
   "metadata": {},
   "outputs": [
    {
     "name": "stdout",
     "output_type": "stream",
     "text": [
      "(?, 28, 28, 1)\n"
     ]
    }
   ],
   "source": [
    "print(visible.shape)\n",
    "model = tf.keras.Model(inputs=visible, outputs=out4)"
   ]
  },
  {
   "cell_type": "code",
   "execution_count": 14,
   "metadata": {},
   "outputs": [
    {
     "name": "stdout",
     "output_type": "stream",
     "text": [
      "Train on 60000 samples, validate on 10000 samples\n",
      "WARNING:tensorflow:From /home/manju/code/ML/venv3.6/lib/python3.6/site-packages/tensorflow/python/ops/math_ops.py:3066: to_int32 (from tensorflow.python.ops.math_ops) is deprecated and will be removed in a future version.\n",
      "Instructions for updating:\n",
      "Use tf.cast instead.\n",
      "Epoch 1/10\n",
      "60000/60000 [==============================] - 17s 279us/sample - loss: 1.6395 - acc: 0.5817 - val_loss: 0.6832 - val_acc: 0.7955\n",
      "Epoch 2/10\n",
      "60000/60000 [==============================] - 17s 288us/sample - loss: 0.4433 - acc: 0.8709 - val_loss: 0.2914 - val_acc: 0.9173\n",
      "Epoch 3/10\n",
      "60000/60000 [==============================] - 16s 275us/sample - loss: 0.2423 - acc: 0.9300 - val_loss: 0.1935 - val_acc: 0.9435\n",
      "Epoch 4/10\n",
      "60000/60000 [==============================] - 17s 280us/sample - loss: 0.1776 - acc: 0.9478 - val_loss: 0.1493 - val_acc: 0.9551\n",
      "Epoch 5/10\n",
      "60000/60000 [==============================] - 17s 284us/sample - loss: 0.1429 - acc: 0.9571 - val_loss: 0.1206 - val_acc: 0.9627\n",
      "Epoch 6/10\n",
      "60000/60000 [==============================] - 17s 290us/sample - loss: 0.1229 - acc: 0.9628 - val_loss: 0.1063 - val_acc: 0.9671\n",
      "Epoch 7/10\n",
      "60000/60000 [==============================] - 18s 302us/sample - loss: 0.1078 - acc: 0.9675 - val_loss: 0.0912 - val_acc: 0.9715\n",
      "Epoch 8/10\n",
      "60000/60000 [==============================] - 17s 286us/sample - loss: 0.0980 - acc: 0.9696 - val_loss: 0.0841 - val_acc: 0.9719\n",
      "Epoch 9/10\n",
      "60000/60000 [==============================] - 18s 293us/sample - loss: 0.0901 - acc: 0.9723 - val_loss: 0.0765 - val_acc: 0.9761\n",
      "Epoch 10/10\n",
      "60000/60000 [==============================] - 17s 280us/sample - loss: 0.0835 - acc: 0.9748 - val_loss: 0.0747 - val_acc: 0.9738\n"
     ]
    },
    {
     "data": {
      "text/plain": [
       "<tensorflow.python.keras.callbacks.History at 0x7f361235eef0>"
      ]
     },
     "execution_count": 14,
     "metadata": {},
     "output_type": "execute_result"
    }
   ],
   "source": [
    "model.compile(loss='categorical_crossentropy', optimizer='adam', metrics=['accuracy'])\n",
    "tb_log_dir = \"/home/manju/code/ML/src/manju_tensorflow_examples/logs/fit/\" + datetime.datetime.now().strftime(\"%Y%m%d-%H%M%S\")\n",
    "\n",
    "tb_callback = keras.callbacks.TensorBoard(log_dir=tb_log_dir, histogram_freq=1)\n",
    "model.fit(x=train_input, y=train_labels, batch_size=1000, epochs=10, validation_data=(val_input, val_labels),\n",
    "         callbacks=[tb_callback])"
   ]
  },
  {
   "cell_type": "code",
   "execution_count": null,
   "metadata": {},
   "outputs": [],
   "source": []
  }
 ],
 "metadata": {
  "kernelspec": {
   "display_name": "Python 3",
   "language": "python",
   "name": "python3"
  },
  "language_info": {
   "codemirror_mode": {
    "name": "ipython",
    "version": 3
   },
   "file_extension": ".py",
   "mimetype": "text/x-python",
   "name": "python",
   "nbconvert_exporter": "python",
   "pygments_lexer": "ipython3",
   "version": "3.6.12"
  }
 },
 "nbformat": 4,
 "nbformat_minor": 4
}
