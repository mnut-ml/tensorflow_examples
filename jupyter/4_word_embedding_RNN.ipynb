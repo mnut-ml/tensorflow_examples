{
 "cells": [
  {
   "cell_type": "code",
   "execution_count": 1,
   "metadata": {},
   "outputs": [],
   "source": [
    "import tensorflow as tf\n",
    "from tensorflow import keras\n",
    "from tensorflow.keras import layers\n",
    "import tensorflow.compat.v2 as tf2\n",
    "import tensorflow_datasets as tfds\n",
    "import datetime"
   ]
  },
  {
   "cell_type": "code",
   "execution_count": 2,
   "metadata": {},
   "outputs": [
    {
     "name": "stderr",
     "output_type": "stream",
     "text": [
      "WARNING:absl:TFDS datasets with text encoding are deprecated and will be removed in a future version. Instead, you should use the plain text version and tokenize the text using `tensorflow_text` (See: https://www.tensorflow.org/tutorials/tensorflow_text/intro#tfdata_example)\n"
     ]
    }
   ],
   "source": [
    "(train_data, test_data), info = tfds.load(\n",
    "    'imdb_reviews/subwords8k', \n",
    "    split = (tfds.Split.TRAIN, tfds.Split.TEST), \n",
    "    with_info=True, as_supervised=True)"
   ]
  },
  {
   "cell_type": "code",
   "execution_count": 5,
   "metadata": {},
   "outputs": [],
   "source": [
    "encoder = info.features['text'].encoder\n",
    "buffer_size = 1000\n",
    "batch_size = 10\n",
    "train_batches = train_data.shuffle(buffer_size).padded_batch(batch_size,drop_remainder=True)\n",
    "test_batches = test_data.shuffle(buffer_size).padded_batch(batch_size,drop_remainder=True)\n",
    "#encoder.subwords[:20]"
   ]
  },
  {
   "cell_type": "code",
   "execution_count": 22,
   "metadata": {},
   "outputs": [
    {
     "name": "stdout",
     "output_type": "stream",
     "text": [
      "Model: \"sequential_10\"\n",
      "_________________________________________________________________\n",
      "Layer (type)                 Output Shape              Param #   \n",
      "=================================================================\n",
      "embedding_12 (Embedding)     (None, None, 16)          130960    \n",
      "_________________________________________________________________\n",
      "lstm_13 (LSTM)               (None, None, 16)          2112      \n",
      "_________________________________________________________________\n",
      "dense_20 (Dense)             (None, None, 16)          272       \n",
      "_________________________________________________________________\n",
      "dense_21 (Dense)             (None, None, 1)           17        \n",
      "=================================================================\n",
      "Total params: 133,361\n",
      "Trainable params: 133,361\n",
      "Non-trainable params: 0\n",
      "_________________________________________________________________\n",
      "None\n",
      "Epoch 1/10\n",
      "390/390 [==============================] - 165s 418ms/step - loss: 0.6931 - accuracy: 0.4986 - val_loss: 0.6927 - val_accuracy: 0.5250\n",
      "Epoch 2/10\n",
      "390/390 [==============================] - 167s 427ms/step - loss: 0.6926 - accuracy: 0.4966 - val_loss: 0.6895 - val_accuracy: 0.4917\n",
      "Epoch 3/10\n",
      "390/390 [==============================] - 162s 415ms/step - loss: 0.6218 - accuracy: 0.5043 - val_loss: 0.5662 - val_accuracy: 0.7166\n",
      "Epoch 4/10\n",
      "390/390 [==============================] - 161s 413ms/step - loss: 0.5459 - accuracy: 0.7438 - val_loss: 0.5859 - val_accuracy: 0.7054\n",
      "Epoch 5/10\n",
      "390/390 [==============================] - 162s 414ms/step - loss: 0.5447 - accuracy: 0.7541 - val_loss: 0.5339 - val_accuracy: 0.7664\n",
      "Epoch 6/10\n",
      "390/390 [==============================] - 163s 418ms/step - loss: 0.5020 - accuracy: 0.7919 - val_loss: 0.5262 - val_accuracy: 0.7741\n",
      "Epoch 7/10\n",
      "390/390 [==============================] - 163s 417ms/step - loss: 0.4795 - accuracy: 0.8105 - val_loss: 0.5483 - val_accuracy: 0.7688\n",
      "Epoch 8/10\n",
      "390/390 [==============================] - 162s 415ms/step - loss: 0.4888 - accuracy: 0.8070 - val_loss: 0.4928 - val_accuracy: 0.7999\n",
      "Epoch 9/10\n",
      "390/390 [==============================] - 161s 413ms/step - loss: 0.4680 - accuracy: 0.8163 - val_loss: 0.5260 - val_accuracy: 0.7807\n",
      "Epoch 10/10\n",
      "390/390 [==============================] - 164s 420ms/step - loss: 0.4589 - accuracy: 0.8225 - val_loss: 0.5276 - val_accuracy: 0.7825\n"
     ]
    }
   ],
   "source": [
    "model = tf.keras.Sequential([\n",
    "    tf.keras.layers.Embedding(encoder.vocab_size, 16),\n",
    "    tf.keras.layers.Bidirectional(tf.keras.layers.LSTM(16, return_sequences=True)),\n",
    "    tf.keras.layers.Bidirectional(tf.keras.layers.LSTM(16)),\n",
    "    tf.keras.layers.Dense(16, activation='relu'),\n",
    "    tf.keras.layers.Dense(1)\n",
    "])\n",
    "print(model.summary())\n",
    "log_dir = \"/home/manju/code/ML/src/manju_tensorflow_examples/logs/fit/\" \\\n",
    " + datetime.datetime.now().strftime(\"%Y%m%d-%H%M%S\") + 'word_embedding_rnn_emb_16_lstm_16_lstm_16_d_16_d_1_adam_lr_0001'\n",
    "tb_callback = keras.callbacks.TensorBoard(log_dir=log_dir)\n",
    "\n",
    "model.compile(loss=tf.keras.losses.BinaryCrossentropy(from_logits=True),\n",
    "              optimizer=tf.keras.optimizers.Adam(1e-4),\n",
    "              metrics=['accuracy'])\n",
    "\n",
    "history = model.fit(train_batches, epochs=10,\n",
    "                    validation_data=test_batches, \n",
    "                    validation_steps=30,\n",
    "                    callbacks=[tb_callback])"
   ]
  },
  {
   "cell_type": "code",
   "execution_count": 21,
   "metadata": {},
   "outputs": [
    {
     "name": "stdout",
     "output_type": "stream",
     "text": [
      "390/390 [==============================] - 68s 175ms/step - loss: 0.4149 - accuracy: 0.8633\n"
     ]
    }
   ],
   "source": [
    "test_loss, test_acc = model.evaluate(test_batches)"
   ]
  }
 ],
 "metadata": {
  "kernelspec": {
   "display_name": "Python 3",
   "language": "python",
   "name": "python3"
  },
  "language_info": {
   "codemirror_mode": {
    "name": "ipython",
    "version": 3
   },
   "file_extension": ".py",
   "mimetype": "text/x-python",
   "name": "python",
   "nbconvert_exporter": "python",
   "pygments_lexer": "ipython3",
   "version": "3.6.12"
  }
 },
 "nbformat": 4,
 "nbformat_minor": 4
}
