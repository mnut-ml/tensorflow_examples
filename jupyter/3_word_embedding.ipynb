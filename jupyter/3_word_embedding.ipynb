{
 "cells": [
  {
   "cell_type": "code",
   "execution_count": 1,
   "metadata": {},
   "outputs": [],
   "source": [
    "import tensorflow as tf\n",
    "from tensorflow import keras\n",
    "from tensorflow.keras import layers\n",
    "import tensorflow.compat.v2 as tf2\n",
    "import tensorflow_datasets as tfds\n",
    "import datetime"
   ]
  },
  {
   "cell_type": "code",
   "execution_count": 2,
   "metadata": {},
   "outputs": [
    {
     "name": "stderr",
     "output_type": "stream",
     "text": [
      "WARNING:absl:TFDS datasets with text encoding are deprecated and will be removed in a future version. Instead, you should use the plain text version and tokenize the text using `tensorflow_text` (See: https://www.tensorflow.org/tutorials/tensorflow_text/intro#tfdata_example)\n"
     ]
    }
   ],
   "source": [
    "(train_data, test_data), info = tfds.load(\n",
    "    'imdb_reviews/subwords8k', \n",
    "    split = (tfds.Split.TRAIN, tfds.Split.TEST), \n",
    "    with_info=True, as_supervised=True)"
   ]
  },
  {
   "cell_type": "code",
   "execution_count": 3,
   "metadata": {},
   "outputs": [
    {
     "data": {
      "text/plain": [
       "['the_',\n",
       " ', ',\n",
       " '. ',\n",
       " 'a_',\n",
       " 'and_',\n",
       " 'of_',\n",
       " 'to_',\n",
       " 's_',\n",
       " 'is_',\n",
       " 'br',\n",
       " 'in_',\n",
       " 'I_',\n",
       " 'that_',\n",
       " 'this_',\n",
       " 'it_',\n",
       " ' /><',\n",
       " ' />',\n",
       " 'was_',\n",
       " 'The_',\n",
       " 'as_']"
      ]
     },
     "execution_count": 3,
     "metadata": {},
     "output_type": "execute_result"
    }
   ],
   "source": [
    "encoder = info.features['text'].encoder\n",
    "train_batches = train_data.shuffle(1000).padded_batch(10)\n",
    "test_batches = test_data.shuffle(1000).padded_batch(10)\n",
    "encoder.subwords[:20]"
   ]
  },
  {
   "cell_type": "code",
   "execution_count": 4,
   "metadata": {},
   "outputs": [
    {
     "name": "stdout",
     "output_type": "stream",
     "text": [
      "(None, 8185, 16)\n",
      "(None, 16)\n",
      "(None, 16)\n",
      "(None, 1)\n"
     ]
    }
   ],
   "source": [
    "max_input_len = encoder.vocab_size\n",
    "encoded_dims = 16\n",
    "inputs = layers.Input(shape=(max_input_len))\n",
    "embed = layers.Embedding( encoder.vocab_size, encoded_dims)(inputs)\n",
    "print(embed.shape)\n",
    "avgpool = layers.GlobalAveragePooling1D()(embed) \n",
    "print(avgpool.shape)\n",
    "dense1 = layers.Dense(16, activation='relu')(avgpool)\n",
    "print( dense1.shape)\n",
    "dense2 = layers.Dense(1)(dense1)\n",
    "print( dense2.shape)\n"
   ]
  },
  {
   "cell_type": "code",
   "execution_count": 5,
   "metadata": {},
   "outputs": [
    {
     "name": "stdout",
     "output_type": "stream",
     "text": [
      "Model: \"model\"\n",
      "_________________________________________________________________\n",
      "Layer (type)                 Output Shape              Param #   \n",
      "=================================================================\n",
      "input_1 (InputLayer)         [(None, 8185)]            0         \n",
      "_________________________________________________________________\n",
      "embedding (Embedding)        (None, 8185, 16)          130960    \n",
      "_________________________________________________________________\n",
      "global_average_pooling1d (Gl (None, 16)                0         \n",
      "_________________________________________________________________\n",
      "dense (Dense)                (None, 16)                272       \n",
      "_________________________________________________________________\n",
      "dense_1 (Dense)              (None, 1)                 17        \n",
      "=================================================================\n",
      "Total params: 131,249\n",
      "Trainable params: 131,249\n",
      "Non-trainable params: 0\n",
      "_________________________________________________________________\n",
      "None\n"
     ]
    }
   ],
   "source": [
    "model = keras.Model(inputs=inputs, outputs=dense2)\n",
    "print(model.summary())\n",
    "model.compile( optimizer='adam', loss=keras.losses.BinaryCrossentropy(from_logits=True),\n",
    "             metrics=['accuracy'])"
   ]
  },
  {
   "cell_type": "code",
   "execution_count": 6,
   "metadata": {},
   "outputs": [
    {
     "name": "stdout",
     "output_type": "stream",
     "text": [
      "Epoch 1/10\n",
      "2500/2500 [==============================] - 8s 3ms/step - loss: 0.6184 - accuracy: 0.5739 - val_loss: 0.4297 - val_accuracy: 0.8350\n",
      "Epoch 2/10\n",
      "2500/2500 [==============================] - 7s 3ms/step - loss: 0.3028 - accuracy: 0.8718 - val_loss: 0.3088 - val_accuracy: 0.8850\n",
      "Epoch 3/10\n",
      "2500/2500 [==============================] - 7s 3ms/step - loss: 0.2372 - accuracy: 0.9058 - val_loss: 0.3465 - val_accuracy: 0.8850\n",
      "Epoch 4/10\n",
      "2500/2500 [==============================] - 7s 3ms/step - loss: 0.2021 - accuracy: 0.9212 - val_loss: 0.3612 - val_accuracy: 0.8800\n",
      "Epoch 5/10\n",
      "2500/2500 [==============================] - 7s 3ms/step - loss: 0.1807 - accuracy: 0.9323 - val_loss: 0.4758 - val_accuracy: 0.8400\n",
      "Epoch 6/10\n",
      "2500/2500 [==============================] - 7s 3ms/step - loss: 0.1648 - accuracy: 0.9378 - val_loss: 0.4636 - val_accuracy: 0.8800\n",
      "Epoch 7/10\n",
      "2500/2500 [==============================] - 7s 3ms/step - loss: 0.1432 - accuracy: 0.9484 - val_loss: 0.4562 - val_accuracy: 0.8600\n",
      "Epoch 8/10\n",
      "2500/2500 [==============================] - 7s 3ms/step - loss: 0.1326 - accuracy: 0.9518 - val_loss: 0.5235 - val_accuracy: 0.8600\n",
      "Epoch 9/10\n",
      "2500/2500 [==============================] - 7s 3ms/step - loss: 0.1230 - accuracy: 0.9566 - val_loss: 0.5686 - val_accuracy: 0.8300\n",
      "Epoch 10/10\n",
      "2500/2500 [==============================] - 7s 3ms/step - loss: 0.1092 - accuracy: 0.9611 - val_loss: 0.3659 - val_accuracy: 0.8800\n"
     ]
    },
    {
     "data": {
      "text/plain": [
       "<tensorflow.python.keras.callbacks.History at 0x7fc4b470e9b0>"
      ]
     },
     "execution_count": 6,
     "metadata": {},
     "output_type": "execute_result"
    }
   ],
   "source": [
    "log_dir = \"/home/manju/code/ML/src/manju_tensorflow_examples/logs/fit/\" + datetime.datetime.now().strftime(\"%Y%m%d-%H%M%S\") + 'word_embedding_basic'\n",
    "tb_callback = keras.callbacks.TensorBoard(log_dir=log_dir)\n",
    "#model.fit( train_batches, epochs = 10, validation_data=test_batches, validation_steps = 20, callbacks=[tb_callback])\n",
    "model.fit( train_batches, epochs = 10, validation_data=test_batches, validation_steps = 20)"
   ]
  },
  {
   "cell_type": "code",
   "execution_count": 10,
   "metadata": {},
   "outputs": [
    {
     "name": "stdout",
     "output_type": "stream",
     "text": [
      "2500/2500 [==============================] - 3s 1ms/step - loss: 0.4787 - accuracy: 0.8571\n",
      "0.47871050238609314\n",
      "0.8570799827575684\n"
     ]
    }
   ],
   "source": [
    "test_loss, test_acc = model.evaluate(test_batches)\n",
    "print (test_loss)\n",
    "print (test_acc)"
   ]
  },
  {
   "cell_type": "code",
   "execution_count": 7,
   "metadata": {},
   "outputs": [],
   "source": [
    "e = model.layers[1]\n",
    "weights = e.get_weights()[0]"
   ]
  },
  {
   "cell_type": "code",
   "execution_count": 8,
   "metadata": {},
   "outputs": [],
   "source": [
    "import io\n",
    "\n",
    "encoder = info.features['text'].encoder\n",
    "\n",
    "#out_v = io.open('vecs.tsv', 'w', encoding='utf-8')\n",
    "#out_m = io.open('meta.tsv', 'w', encoding='utf-8')\n",
    "\n",
    "#for num, word in enumerate(encoder.subwords):\n",
    "#  vec = weights[num+1] # skip 0, it's padding.\n",
    "#  out_m.write(word + \"\\n\")\n",
    "#  out_v.write('\\t'.join([str(x) for x in vec]) + \"\\n\")\n",
    "#out_v.close()\n",
    "#out_m.close()"
   ]
  }
 ],
 "metadata": {
  "kernelspec": {
   "display_name": "Python 3",
   "language": "python",
   "name": "python3"
  },
  "language_info": {
   "codemirror_mode": {
    "name": "ipython",
    "version": 3
   },
   "file_extension": ".py",
   "mimetype": "text/x-python",
   "name": "python",
   "nbconvert_exporter": "python",
   "pygments_lexer": "ipython3",
   "version": "3.6.12"
  }
 },
 "nbformat": 4,
 "nbformat_minor": 4
}
